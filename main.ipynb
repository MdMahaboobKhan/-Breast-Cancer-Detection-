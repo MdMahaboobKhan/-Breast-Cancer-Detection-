{
 "cells": [
  {
   "cell_type": "code",
   "execution_count": 354,
   "metadata": {},
   "outputs": [],
   "source": [
    "import numpy as np \n",
    "import pandas as pd\n",
    "from sklearn.model_selection import train_test_split\n",
    "from sklearn import preprocessing\n",
    "import matplotlib.pyplot as plt\n",
    "from sklearn.metrics import accuracy_score\n",
    "from sklearn.metrics import classification_report\n",
    "from sklearn.metrics import confusion_matrix"
   ]
  },
  {
   "cell_type": "code",
   "execution_count": 355,
   "metadata": {},
   "outputs": [],
   "source": [
    "df = pd.read_csv(\"/home/sufiyan/UB/Intro to ML/project 1/wdbc.csv\",header=None)\n",
    "df = df.drop(df.columns[0],axis=1)"
   ]
  },
  {
   "cell_type": "code",
   "execution_count": 356,
   "metadata": {},
   "outputs": [],
   "source": [
    "#map column values\n",
    "all_y = df[df.columns[0]]\n",
    "all_y = all_y.map({'M':1,'B':0})\n",
    "df[df.columns[0]] = all_y"
   ]
  },
  {
   "cell_type": "code",
   "execution_count": 357,
   "metadata": {},
   "outputs": [],
   "source": [
    "#split data set into X and Y\n",
    "all_y = all_y.to_frame()\n",
    "all_x = df[df.columns[1:]]"
   ]
  },
  {
   "cell_type": "code",
   "execution_count": 358,
   "metadata": {},
   "outputs": [],
   "source": [
    "#split data in training, validation and testing\n",
    "xtrain_old,xtest_old,ytrain_old,ytest_old = train_test_split(all_x,all_y,test_size=0.2, random_state=3)\n",
    "xval_old,xtest,yval_old,ytest = train_test_split(xtest_old,ytest_old,test_size=0.5,random_state=3)\n",
    "#I've used random_state since I ran the code multiple times and dindn't want the training set etc to change every time "
   ]
  },
  {
   "cell_type": "code",
   "execution_count": 359,
   "metadata": {},
   "outputs": [],
   "source": [
    "#get the Y values in the form of a numpy array and of the right dimensions\n",
    "Ytrain = ytrain_old.values\n",
    "Yval = yval_old.values\n",
    "Ytest = ytest.values\n",
    "Ytrain = Ytrain.reshape(1,Ytrain.shape[0])\n",
    "Yval = Yval.reshape(1,Yval.shape[0])\n",
    "Ytest = Ytest.reshape(1,Ytest.shape[0])\n"
   ]
  },
  {
   "cell_type": "code",
   "execution_count": 360,
   "metadata": {},
   "outputs": [],
   "source": [
    "#normalize the X data\n",
    "Xtrain = preprocessing.normalize(xtrain_old,norm=\"l2\")\n",
    "Xval = preprocessing.normalize(xval_old,norm=\"l2\")\n",
    "Xtest = preprocessing.normalize(xtest,norm=\"l2\")\n",
    "Xtrain = Xtrain.T\n",
    "Xval = Xval.T\n",
    "Xtest = Xtest.T\n"
   ]
  },
  {
   "cell_type": "code",
   "execution_count": 361,
   "metadata": {},
   "outputs": [],
   "source": [
    "#sigmoid function\n",
    "def sigmoid(y):\n",
    "    return(1/(1+np.exp(-y)))"
   ]
  },
  {
   "cell_type": "code",
   "execution_count": 405,
   "metadata": {},
   "outputs": [],
   "source": [
    "#initialize things required\n",
    "track_loss = []\n",
    "validate_loss = []\n",
    "m = Xtrain.shape[1]\n",
    "m1 = Xval.shape[1]\n",
    "b = 0\n",
    "lr = 0.1\n",
    "w = np.zeros([Xtrain.shape[0],1])"
   ]
  },
  {
   "cell_type": "code",
   "execution_count": 412,
   "metadata": {},
   "outputs": [],
   "source": [
    "for epoch in range(15000):\n",
    "    z = np.dot(w.T,Xtrain) + b\n",
    "    z1 = np.dot(w.T,Xval) + b\n",
    "    p = sigmoid(z)\n",
    "    p1 = sigmoid(z1)\n",
    "    cost = -np.sum(np.multiply(np.log(p),Ytrain) + np.multiply((1-Ytrain),np.log(1-p)))/m\n",
    "    cost1 = -np.sum(np.multiply(np.log(p1),Yval) + np.multiply((1-Yval),np.log(1-p1)))/m1\n",
    "    dz = p - Ytrain\n",
    "    track_loss.append(np.squeeze(cost))\n",
    "    validate_loss.append(np.squeeze(cost1))\n",
    "\n",
    "    dw = (1/m)*np.dot(Xtrain,dz.T)\n",
    "    db = (1/m)*np.sum(dz)\n",
    "\n",
    "    w = w - (lr*dw)\n",
    "    b = b - (lr*db)"
   ]
  },
  {
   "cell_type": "code",
   "execution_count": 413,
   "metadata": {},
   "outputs": [
    {
     "name": "stdout",
     "output_type": "stream",
     "text": [
      "Learning Rate:  0.1\n",
      "Epoch:  14999\n"
     ]
    },
    {
     "data": {
      "text/plain": [
       "<matplotlib.legend.Legend at 0x7f48b184a710>"
      ]
     },
     "execution_count": 413,
     "metadata": {},
     "output_type": "execute_result"
    },
    {
     "data": {
      "image/png": "[encoded data removed]",
      "text/plain": [
       "<Figure size 432x288 with 1 Axes>"
      ]
     },
     "metadata": {
      "needs_background": "light"
     },
     "output_type": "display_data"
    }
   ],
   "source": [
    "print(\"Learning Rate: \",lr)\n",
    "print(\"Epoch: \",epoch)\n",
    "plt.plot(track_loss,'r',label = 'training')\n",
    "plt.plot(validate_loss,'b',label = 'validation')\n",
    "plt.legend()"
   ]
  },
  {
   "cell_type": "code",
   "execution_count": 414,
   "metadata": {},
   "outputs": [],
   "source": [
    "#predict for test cases\n",
    "raw_predicted = np.dot(w.T,Xtest) + b\n",
    "predicted = sigmoid(raw_predicted)"
   ]
  },
  {
   "cell_type": "code",
   "execution_count": 415,
   "metadata": {},
   "outputs": [],
   "source": [
    "#get predicted value in terms of 0 and 1\n",
    "predicted[predicted>0.5] = 1\n",
    "predicted[predicted<0.5] = 0\n",
    "predicted = predicted.astype(int)"
   ]
  },
  {
   "cell_type": "code",
   "execution_count": 420,
   "metadata": {},
   "outputs": [
    {
     "name": "stdout",
     "output_type": "stream",
     "text": [
      "[[37  0]\n",
      " [ 2 18]]\n"
     ]
    }
   ],
   "source": [
    "#calculate TP TN FP FN\n",
    "accuracy = accuracy_score(Ytest[0],predicted[0])\n",
    "#report = classification_report(Ytest[0],predicted[0])\n",
    "conf_matrix = confusion_matrix(Ytest[0],predicted[0])\n",
    "print(conf_matrix)\n",
    "#print(accuracy)"
   ]
  },
  {
   "cell_type": "code",
   "execution_count": 417,
   "metadata": {},
   "outputs": [],
   "source": [
    "TP = conf_matrix[0][0]\n",
    "FP = conf_matrix[1][0]\n",
    "FN = conf_matrix[0][1]\n",
    "TN = conf_matrix[1][1]"
   ]
  },
  {
   "cell_type": "code",
   "execution_count": 418,
   "metadata": {},
   "outputs": [],
   "source": [
    "#calculate accuracy, recall and precision\n",
    "#Accuracy = ratio of correctly predicted observation to the total observations\n",
    "#Precision = ratio of correctly predicted positive observations to the total predicted positive observations\n",
    "#Recall = ratio of correctly predicted positive observations to the all observations in actual class\n",
    "#F1 Score = the weighted average of Precision and Recall\n",
    "Accuracy = (TP+TN)/(TP+TN+FP+FN)\n",
    "Precision = TP/(TP+FP)\n",
    "Recall = TP/(TP+FN)\n",
    "F1 = 2*(Recall * Precision) / (Recall + Precision)"
   ]
  },
  {
   "cell_type": "code",
   "execution_count": 419,
   "metadata": {},
   "outputs": [
    {
     "name": "stdout",
     "output_type": "stream",
     "text": [
      "\t\tEVALUATION(in percentage)\n",
      "\n",
      "\n",
      "Accuracy :  96.49122807017544 %\n",
      "Precision :  94.87179487179486 %\n",
      "Recall :  100.0 %\n",
      "F1 Score :  97.36842105263158 %\n"
     ]
    }
   ],
   "source": [
    "print(\"\\t\\tEVALUATION(in percentage)\\n\\n\")\n",
    "print(\"Accuracy : \", Accuracy*100,\"%\")\n",
    "print(\"Precision : \", Precision*100,\"%\")\n",
    "print(\"Recall : \", Recall*100,\"%\")\n",
    "print(\"F1 Score : \", F1*100,\"%\")"
   ]
  },
  {
   "cell_type": "code",
   "execution_count": null,
   "metadata": {},
   "outputs": [],
   "source": []
  },
  {
   "cell_type": "code",
   "execution_count": null,
   "metadata": {},
   "outputs": [],
   "source": []
  }
 ],
 "metadata": {
  "kernelspec": {
   "display_name": "Python 3",
   "language": "python",
   "name": "python3"
  },
  "language_info": {
   "codemirror_mode": {
    "name": "ipython",
    "version": 3
   },
   "file_extension": ".py",
   "mimetype": "text/x-python",
   "name": "python",
   "nbconvert_exporter": "python",
   "pygments_lexer": "ipython3",
   "version": "3.6.5"
  }
 },
 "nbformat": 4,
 "nbformat_minor": 2
}
